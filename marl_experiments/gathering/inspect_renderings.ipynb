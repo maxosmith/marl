{
 "cells": [
  {
   "cell_type": "code",
   "execution_count": null,
   "metadata": {},
   "outputs": [],
   "source": [
    "%%html\n",
    "<style>\n",
    ".output_wrapper, .output {\n",
    "    height:auto !important;\n",
    "    max-height:10000px; \n",
    "}\n",
    ".output_scroll {\n",
    "    box-shadow:none !important;\n",
    "    webkit-box-shadow:none !important;\n",
    "}\n",
    "</style>"
   ]
  },
  {
   "cell_type": "code",
   "execution_count": null,
   "metadata": {},
   "outputs": [],
   "source": [
    "import os.path as osp\n",
    "import glob\n",
    "\n",
    "from IPython.core.display import display, HTML, Image, clear_output\n",
    "import ipywidgets as widgets\n",
    "from ipywidgets import interact\n"
   ]
  },
  {
   "cell_type": "code",
   "execution_count": null,
   "metadata": {},
   "outputs": [],
   "source": [
    "RESULT_DIR = \"/scratch/wellman_root/wellman1/mxsmith/tests/impala\"\n",
    "TRAIN_DIR = osp.join(RESULT_DIR, \"render_arena_train\")\n",
    "EVAL_DIR = osp.join(RESULT_DIR, \"render_arena_eval\")\n",
    "NUM_RENDERS = 5"
   ]
  },
  {
   "cell_type": "code",
   "execution_count": null,
   "metadata": {},
   "outputs": [],
   "source": [
    "# Determine the possible step options.\n",
    "steps = glob.glob(f\"{TRAIN_DIR}/*\")\n",
    "steps = [int(path.split(\"_\")[-1]) for path in steps]\n",
    "steps = sorted(steps)"
   ]
  },
  {
   "cell_type": "code",
   "execution_count": null,
   "metadata": {
    "scrolled": false
   },
   "outputs": [],
   "source": [
    "step_widget = widgets.Dropdown(options=steps)\n",
    "\n",
    "@interact(step=step_widget)\n",
    "def render(step):\n",
    "    clear_output(wait=True)\n",
    "    display(HTML(\"<h1>Training</h1></br>\"))\n",
    "    for i in range(NUM_RENDERS):\n",
    "        path = f\"{TRAIN_DIR}/step_{step}/{i}.gif\"\n",
    "        print(path)\n",
    "        display(Image(open(path, \"rb\").read(), format=\"gif\"))\n",
    "\n",
    "#     display(HTML(\"<h1>Evaluation</h1></br>\"))\n",
    "#     for i in range(NUM_RENDERS):\n",
    "#         path = f\"{EVAL_DIR}/step_{step}/{i}.gif\"\n",
    "#         display(Image(open(path, \"rb\").read(), format=\"gif\"))"
   ]
  },
  {
   "cell_type": "code",
   "execution_count": null,
   "metadata": {},
   "outputs": [],
   "source": []
  }
 ],
 "metadata": {
  "kernelspec": {
   "display_name": "Python 3 (ipykernel)",
   "language": "python",
   "name": "python3"
  },
  "language_info": {
   "codemirror_mode": {
    "name": "ipython",
    "version": 3
   },
   "file_extension": ".py",
   "mimetype": "text/x-python",
   "name": "python",
   "nbconvert_exporter": "python",
   "pygments_lexer": "ipython3",
   "version": "3.8.13"
  },
  "toc": {
   "base_numbering": 1,
   "nav_menu": {},
   "number_sections": true,
   "sideBar": true,
   "skip_h1_title": false,
   "title_cell": "Table of Contents",
   "title_sidebar": "Contents",
   "toc_cell": false,
   "toc_position": {},
   "toc_section_display": true,
   "toc_window_display": false
  },
  "vscode": {
   "interpreter": {
    "hash": "303fa976db1f09b51993a14f02f6bb9265d05d399e7a9804f94e266bbf98f4f5"
   }
  }
 },
 "nbformat": 4,
 "nbformat_minor": 2
}
